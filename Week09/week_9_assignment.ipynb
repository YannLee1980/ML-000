{
 "cells": [
  {
   "cell_type": "code",
   "execution_count": 1,
   "metadata": {},
   "outputs": [],
   "source": [
    "import pandas as pd\n",
    "import lightgbm as lgb\n",
    "from sklearn import metrics\n",
    "import math"
   ]
  },
  {
   "cell_type": "code",
   "execution_count": 2,
   "metadata": {},
   "outputs": [],
   "source": [
    "train_data = pd.read_csv('./data/train_final.csv')\n",
    "test_data = pd.read_csv('./data/test_final.csv')"
   ]
  },
  {
   "cell_type": "markdown",
   "metadata": {},
   "source": [
    "### BaseLine"
   ]
  },
  {
   "cell_type": "code",
   "execution_count": 3,
   "metadata": {},
   "outputs": [],
   "source": [
    "train_y = train_data.loan_status\n",
    "train_x = train_data.drop(['loan_status'], axis=1)\n",
    "test_y = test_data.loan_status\n",
    "test_x = test_data.drop(['loan_status'], axis=1)"
   ]
  },
  {
   "cell_type": "code",
   "execution_count": 4,
   "metadata": {},
   "outputs": [],
   "source": [
    "train_set = lgb.Dataset(train_x, train_y)\n",
    "test_set = lgb.Dataset(test_x, test_y, reference=train_set)"
   ]
  },
  {
   "cell_type": "code",
   "execution_count": 5,
   "metadata": {},
   "outputs": [],
   "source": [
    "params = {\n",
    "    'boosting_type': 'gbdt',\n",
    "    'objective': 'regression',\n",
    "    'metric': {'l2', 'l1', 'auc'},\n",
    "    'num_leaves': 7,\n",
    "    'learning_rate': 0.1,\n",
    "    'feature_fraction': 0.9,\n",
    "    'bagging_fraction': 0.8,\n",
    "    'bagging_freq': 5,\n",
    "    'verbose': 0\n",
    "}"
   ]
  },
  {
   "cell_type": "code",
   "execution_count": 6,
   "metadata": {},
   "outputs": [
    {
     "name": "stdout",
     "output_type": "stream",
     "text": [
      "[LightGBM] [Warning] Auto-choosing row-wise multi-threading, the overhead of testing was 0.003490 seconds.\n",
      "You can set `force_row_wise=true` to remove the overhead.\n",
      "And if memory is not enough, you can set `force_col_wise=true`.\n",
      "[1]\tvalid_0's l2: 0.139183\tvalid_0's l1: 0.300462\tvalid_0's auc: 0.938528\n",
      "Training until validation scores don't improve for 10 rounds\n",
      "[2]\tvalid_0's l2: 0.124523\tvalid_0's l1: 0.28303\tvalid_0's auc: 0.939113\n",
      "[3]\tvalid_0's l2: 0.112617\tvalid_0's l1: 0.267277\tvalid_0's auc: 0.944291\n",
      "[4]\tvalid_0's l2: 0.10302\tvalid_0's l1: 0.25312\tvalid_0's auc: 0.944913\n",
      "[5]\tvalid_0's l2: 0.0951464\tvalid_0's l1: 0.240316\tvalid_0's auc: 0.945884\n",
      "[6]\tvalid_0's l2: 0.0886622\tvalid_0's l1: 0.228639\tvalid_0's auc: 0.946207\n",
      "[7]\tvalid_0's l2: 0.0834292\tvalid_0's l1: 0.218204\tvalid_0's auc: 0.949131\n",
      "[8]\tvalid_0's l2: 0.0792008\tvalid_0's l1: 0.208852\tvalid_0's auc: 0.949273\n",
      "[9]\tvalid_0's l2: 0.0757594\tvalid_0's l1: 0.200396\tvalid_0's auc: 0.949435\n",
      "[10]\tvalid_0's l2: 0.0729348\tvalid_0's l1: 0.192669\tvalid_0's auc: 0.949527\n",
      "[11]\tvalid_0's l2: 0.0706672\tvalid_0's l1: 0.185717\tvalid_0's auc: 0.949669\n",
      "[12]\tvalid_0's l2: 0.0688262\tvalid_0's l1: 0.179418\tvalid_0's auc: 0.949726\n",
      "[13]\tvalid_0's l2: 0.0673187\tvalid_0's l1: 0.173733\tvalid_0's auc: 0.950856\n",
      "[14]\tvalid_0's l2: 0.0660701\tvalid_0's l1: 0.168586\tvalid_0's auc: 0.950937\n",
      "[15]\tvalid_0's l2: 0.0650776\tvalid_0's l1: 0.164026\tvalid_0's auc: 0.95262\n",
      "[16]\tvalid_0's l2: 0.0642316\tvalid_0's l1: 0.159888\tvalid_0's auc: 0.952716\n",
      "[17]\tvalid_0's l2: 0.0635425\tvalid_0's l1: 0.156165\tvalid_0's auc: 0.952793\n",
      "[18]\tvalid_0's l2: 0.0629474\tvalid_0's l1: 0.152677\tvalid_0's auc: 0.952897\n",
      "[19]\tvalid_0's l2: 0.0625073\tvalid_0's l1: 0.149652\tvalid_0's auc: 0.952926\n",
      "[20]\tvalid_0's l2: 0.0621116\tvalid_0's l1: 0.146833\tvalid_0's auc: 0.953056\n",
      "[21]\tvalid_0's l2: 0.0618015\tvalid_0's l1: 0.144207\tvalid_0's auc: 0.953085\n",
      "[22]\tvalid_0's l2: 0.0615199\tvalid_0's l1: 0.141876\tvalid_0's auc: 0.95313\n",
      "[23]\tvalid_0's l2: 0.0613205\tvalid_0's l1: 0.139811\tvalid_0's auc: 0.953252\n",
      "[24]\tvalid_0's l2: 0.0611298\tvalid_0's l1: 0.137909\tvalid_0's auc: 0.953278\n",
      "[25]\tvalid_0's l2: 0.0609725\tvalid_0's l1: 0.136155\tvalid_0's auc: 0.953363\n",
      "[26]\tvalid_0's l2: 0.0608261\tvalid_0's l1: 0.13452\tvalid_0's auc: 0.956487\n",
      "[27]\tvalid_0's l2: 0.0607298\tvalid_0's l1: 0.133247\tvalid_0's auc: 0.956763\n",
      "[28]\tvalid_0's l2: 0.0606181\tvalid_0's l1: 0.131835\tvalid_0's auc: 0.95683\n",
      "[29]\tvalid_0's l2: 0.060522\tvalid_0's l1: 0.130555\tvalid_0's auc: 0.956887\n",
      "[30]\tvalid_0's l2: 0.0604484\tvalid_0's l1: 0.129458\tvalid_0's auc: 0.956968\n",
      "[31]\tvalid_0's l2: 0.0604045\tvalid_0's l1: 0.128473\tvalid_0's auc: 0.956987\n",
      "[32]\tvalid_0's l2: 0.0603599\tvalid_0's l1: 0.127543\tvalid_0's auc: 0.95701\n",
      "[33]\tvalid_0's l2: 0.060316\tvalid_0's l1: 0.126729\tvalid_0's auc: 0.957183\n",
      "[34]\tvalid_0's l2: 0.0602728\tvalid_0's l1: 0.125975\tvalid_0's auc: 0.957215\n",
      "[35]\tvalid_0's l2: 0.0602281\tvalid_0's l1: 0.125258\tvalid_0's auc: 0.957238\n",
      "[36]\tvalid_0's l2: 0.060169\tvalid_0's l1: 0.124588\tvalid_0's auc: 0.957283\n",
      "[37]\tvalid_0's l2: 0.0601393\tvalid_0's l1: 0.124025\tvalid_0's auc: 0.957387\n",
      "[38]\tvalid_0's l2: 0.0600895\tvalid_0's l1: 0.123353\tvalid_0's auc: 0.957549\n",
      "[39]\tvalid_0's l2: 0.0600574\tvalid_0's l1: 0.122782\tvalid_0's auc: 0.957579\n",
      "[40]\tvalid_0's l2: 0.0600243\tvalid_0's l1: 0.122365\tvalid_0's auc: 0.95761\n",
      "[41]\tvalid_0's l2: 0.0600084\tvalid_0's l1: 0.122019\tvalid_0's auc: 0.957773\n",
      "[42]\tvalid_0's l2: 0.0599915\tvalid_0's l1: 0.12166\tvalid_0's auc: 0.957755\n",
      "[43]\tvalid_0's l2: 0.0599802\tvalid_0's l1: 0.121664\tvalid_0's auc: 0.957802\n",
      "[44]\tvalid_0's l2: 0.0599667\tvalid_0's l1: 0.121364\tvalid_0's auc: 0.957851\n",
      "[45]\tvalid_0's l2: 0.0599483\tvalid_0's l1: 0.120953\tvalid_0's auc: 0.957875\n",
      "[46]\tvalid_0's l2: 0.0599279\tvalid_0's l1: 0.120681\tvalid_0's auc: 0.957931\n",
      "[47]\tvalid_0's l2: 0.0599301\tvalid_0's l1: 0.120399\tvalid_0's auc: 0.957951\n",
      "[48]\tvalid_0's l2: 0.0599155\tvalid_0's l1: 0.120143\tvalid_0's auc: 0.957953\n",
      "[49]\tvalid_0's l2: 0.0599088\tvalid_0's l1: 0.119995\tvalid_0's auc: 0.958025\n",
      "[50]\tvalid_0's l2: 0.059912\tvalid_0's l1: 0.120037\tvalid_0's auc: 0.958028\n",
      "[51]\tvalid_0's l2: 0.0599141\tvalid_0's l1: 0.120108\tvalid_0's auc: 0.958025\n",
      "[52]\tvalid_0's l2: 0.0599009\tvalid_0's l1: 0.120027\tvalid_0's auc: 0.958071\n",
      "[53]\tvalid_0's l2: 0.059899\tvalid_0's l1: 0.120091\tvalid_0's auc: 0.958072\n",
      "[54]\tvalid_0's l2: 0.0598946\tvalid_0's l1: 0.11999\tvalid_0's auc: 0.958073\n",
      "[55]\tvalid_0's l2: 0.059889\tvalid_0's l1: 0.119637\tvalid_0's auc: 0.958389\n",
      "[56]\tvalid_0's l2: 0.0598796\tvalid_0's l1: 0.119507\tvalid_0's auc: 0.958406\n",
      "[57]\tvalid_0's l2: 0.0598788\tvalid_0's l1: 0.119371\tvalid_0's auc: 0.95841\n",
      "[58]\tvalid_0's l2: 0.0598756\tvalid_0's l1: 0.119183\tvalid_0's auc: 0.958423\n",
      "[59]\tvalid_0's l2: 0.0598722\tvalid_0's l1: 0.119093\tvalid_0's auc: 0.958425\n",
      "[60]\tvalid_0's l2: 0.0598642\tvalid_0's l1: 0.119014\tvalid_0's auc: 0.958465\n",
      "[61]\tvalid_0's l2: 0.059853\tvalid_0's l1: 0.118789\tvalid_0's auc: 0.958532\n",
      "[62]\tvalid_0's l2: 0.0598499\tvalid_0's l1: 0.118584\tvalid_0's auc: 0.958513\n",
      "[63]\tvalid_0's l2: 0.0598461\tvalid_0's l1: 0.118491\tvalid_0's auc: 0.958512\n",
      "[64]\tvalid_0's l2: 0.0598464\tvalid_0's l1: 0.118504\tvalid_0's auc: 0.9585\n",
      "[65]\tvalid_0's l2: 0.0598312\tvalid_0's l1: 0.118559\tvalid_0's auc: 0.958497\n",
      "[66]\tvalid_0's l2: 0.0598247\tvalid_0's l1: 0.118457\tvalid_0's auc: 0.958523\n",
      "[67]\tvalid_0's l2: 0.0598185\tvalid_0's l1: 0.118332\tvalid_0's auc: 0.958544\n",
      "[68]\tvalid_0's l2: 0.059805\tvalid_0's l1: 0.118183\tvalid_0's auc: 0.958646\n",
      "[69]\tvalid_0's l2: 0.0597782\tvalid_0's l1: 0.118106\tvalid_0's auc: 0.958667\n",
      "[70]\tvalid_0's l2: 0.0597741\tvalid_0's l1: 0.118135\tvalid_0's auc: 0.958673\n",
      "[71]\tvalid_0's l2: 0.0597588\tvalid_0's l1: 0.118204\tvalid_0's auc: 0.958679\n",
      "[72]\tvalid_0's l2: 0.0597581\tvalid_0's l1: 0.118271\tvalid_0's auc: 0.958682\n",
      "[73]\tvalid_0's l2: 0.0597482\tvalid_0's l1: 0.118334\tvalid_0's auc: 0.958676\n",
      "[74]\tvalid_0's l2: 0.0597403\tvalid_0's l1: 0.118273\tvalid_0's auc: 0.958693\n",
      "[75]\tvalid_0's l2: 0.0597412\tvalid_0's l1: 0.118228\tvalid_0's auc: 0.958693\n",
      "[76]\tvalid_0's l2: 0.0597255\tvalid_0's l1: 0.118153\tvalid_0's auc: 0.958709\n",
      "[77]\tvalid_0's l2: 0.0597221\tvalid_0's l1: 0.118087\tvalid_0's auc: 0.958747\n",
      "[78]\tvalid_0's l2: 0.0597179\tvalid_0's l1: 0.118115\tvalid_0's auc: 0.958751\n",
      "[79]\tvalid_0's l2: 0.0597178\tvalid_0's l1: 0.118063\tvalid_0's auc: 0.958751\n",
      "[80]\tvalid_0's l2: 0.0597131\tvalid_0's l1: 0.118211\tvalid_0's auc: 0.958711\n",
      "[81]\tvalid_0's l2: 0.0597079\tvalid_0's l1: 0.118335\tvalid_0's auc: 0.958711\n",
      "[82]\tvalid_0's l2: 0.0597031\tvalid_0's l1: 0.118294\tvalid_0's auc: 0.958721\n",
      "[83]\tvalid_0's l2: 0.0596892\tvalid_0's l1: 0.11837\tvalid_0's auc: 0.958718\n",
      "[84]\tvalid_0's l2: 0.0596899\tvalid_0's l1: 0.118371\tvalid_0's auc: 0.958718\n",
      "[85]\tvalid_0's l2: 0.0596857\tvalid_0's l1: 0.118274\tvalid_0's auc: 0.95871\n",
      "[86]\tvalid_0's l2: 0.0596894\tvalid_0's l1: 0.11819\tvalid_0's auc: 0.9587\n",
      "[87]\tvalid_0's l2: 0.0596924\tvalid_0's l1: 0.118122\tvalid_0's auc: 0.958691\n",
      "[88]\tvalid_0's l2: 0.0596899\tvalid_0's l1: 0.118138\tvalid_0's auc: 0.958662\n",
      "[89]\tvalid_0's l2: 0.0596927\tvalid_0's l1: 0.118108\tvalid_0's auc: 0.958657\n",
      "Early stopping, best iteration is:\n",
      "[79]\tvalid_0's l2: 0.0597178\tvalid_0's l1: 0.118063\tvalid_0's auc: 0.958751\n"
     ]
    }
   ],
   "source": [
    "model = lgb.train(params, train_set, valid_sets=test_set, num_boost_round=100, early_stopping_rounds=10)"
   ]
  },
  {
   "cell_type": "code",
   "execution_count": 7,
   "metadata": {},
   "outputs": [],
   "source": [
    "predictions = model.predict(test_x, num_iteration=model.best_iteration)"
   ]
  },
  {
   "cell_type": "code",
   "execution_count": 8,
   "metadata": {},
   "outputs": [
    {
     "name": "stdout",
     "output_type": "stream",
     "text": [
      "Mean Absolute Error:  0.11806305805788035\n",
      "Mean Squared Eror:  0.05971781778676541\n"
     ]
    }
   ],
   "source": [
    "mean_absolute_error = metrics.mean_absolute_error(predictions, test_y)\n",
    "mean_squared_error = metrics.mean_squared_error(predictions, test_y)\n",
    "print(\"Mean Absolute Error: \", mean_absolute_error)\n",
    "print(\"Mean Squared Eror: \", mean_squared_error)"
   ]
  },
  {
   "cell_type": "markdown",
   "metadata": {},
   "source": [
    "### 添加衍生变量 -- 年收入与每月还款额的比值"
   ]
  },
  {
   "cell_type": "code",
   "execution_count": 9,
   "metadata": {},
   "outputs": [],
   "source": [
    "train_y = train_data.loan_status\n",
    "train_x = train_data.drop(['loan_status'], axis=1)\n",
    "test_y = test_data.loan_status\n",
    "test_x = test_data.drop(['loan_status'], axis=1)"
   ]
  },
  {
   "cell_type": "code",
   "execution_count": 10,
   "metadata": {},
   "outputs": [],
   "source": [
    "train_x['ratio_inc_installment'] = round(train_x['continuous_annual_inc'] / train_x['continuous_installment'])\n",
    "test_x['ratio_inc_installment'] = round(test_x['continuous_annual_inc'] / test_x['continuous_installment'])"
   ]
  },
  {
   "cell_type": "code",
   "execution_count": 11,
   "metadata": {},
   "outputs": [],
   "source": [
    "train_set = lgb.Dataset(train_x, train_y)\n",
    "test_set = lgb.Dataset(test_x, test_y, reference=train_set)"
   ]
  },
  {
   "cell_type": "code",
   "execution_count": 12,
   "metadata": {},
   "outputs": [],
   "source": [
    "params = {\n",
    "    'boosting_type': 'gbdt',\n",
    "    'objective': 'regression',\n",
    "    'metric': {'l2', 'l1', 'auc'},\n",
    "    'num_leaves': 7,\n",
    "    'learning_rate': 0.1,\n",
    "    'feature_fraction': 0.9,\n",
    "    'bagging_fraction': 0.8,\n",
    "    'bagging_freq': 5,\n",
    "    'verbose': 0\n",
    "}"
   ]
  },
  {
   "cell_type": "code",
   "execution_count": 13,
   "metadata": {},
   "outputs": [
    {
     "name": "stdout",
     "output_type": "stream",
     "text": [
      "[LightGBM] [Warning] Auto-choosing row-wise multi-threading, the overhead of testing was 0.003114 seconds.\n",
      "You can set `force_row_wise=true` to remove the overhead.\n",
      "And if memory is not enough, you can set `force_col_wise=true`.\n",
      "[1]\tvalid_0's l2: 0.139183\tvalid_0's l1: 0.300462\tvalid_0's auc: 0.938528\n",
      "Training until validation scores don't improve for 10 rounds\n",
      "[2]\tvalid_0's l2: 0.124523\tvalid_0's l1: 0.28303\tvalid_0's auc: 0.939113\n",
      "[3]\tvalid_0's l2: 0.112617\tvalid_0's l1: 0.267277\tvalid_0's auc: 0.944291\n",
      "[4]\tvalid_0's l2: 0.10302\tvalid_0's l1: 0.25312\tvalid_0's auc: 0.944913\n",
      "[5]\tvalid_0's l2: 0.0951422\tvalid_0's l1: 0.240322\tvalid_0's auc: 0.945826\n",
      "[6]\tvalid_0's l2: 0.0886607\tvalid_0's l1: 0.228641\tvalid_0's auc: 0.945983\n",
      "[7]\tvalid_0's l2: 0.083429\tvalid_0's l1: 0.218195\tvalid_0's auc: 0.949033\n",
      "[8]\tvalid_0's l2: 0.0792037\tvalid_0's l1: 0.208845\tvalid_0's auc: 0.949253\n",
      "[9]\tvalid_0's l2: 0.0757625\tvalid_0's l1: 0.20039\tvalid_0's auc: 0.949445\n",
      "[10]\tvalid_0's l2: 0.0729376\tvalid_0's l1: 0.192674\tvalid_0's auc: 0.949542\n",
      "[11]\tvalid_0's l2: 0.0706369\tvalid_0's l1: 0.185672\tvalid_0's auc: 0.949698\n",
      "[12]\tvalid_0's l2: 0.0687941\tvalid_0's l1: 0.179372\tvalid_0's auc: 0.949735\n",
      "[13]\tvalid_0's l2: 0.0672934\tvalid_0's l1: 0.173686\tvalid_0's auc: 0.95085\n",
      "[14]\tvalid_0's l2: 0.0660788\tvalid_0's l1: 0.168665\tvalid_0's auc: 0.950985\n",
      "[15]\tvalid_0's l2: 0.0650531\tvalid_0's l1: 0.164015\tvalid_0's auc: 0.951097\n",
      "[16]\tvalid_0's l2: 0.0641931\tvalid_0's l1: 0.159813\tvalid_0's auc: 0.952838\n",
      "[17]\tvalid_0's l2: 0.0635066\tvalid_0's l1: 0.156107\tvalid_0's auc: 0.952931\n",
      "[18]\tvalid_0's l2: 0.0629507\tvalid_0's l1: 0.152771\tvalid_0's auc: 0.953015\n",
      "[19]\tvalid_0's l2: 0.0624543\tvalid_0's l1: 0.149639\tvalid_0's auc: 0.95311\n",
      "[20]\tvalid_0's l2: 0.0620697\tvalid_0's l1: 0.146859\tvalid_0's auc: 0.953192\n",
      "[21]\tvalid_0's l2: 0.0617318\tvalid_0's l1: 0.144283\tvalid_0's auc: 0.953275\n",
      "[22]\tvalid_0's l2: 0.0614382\tvalid_0's l1: 0.141833\tvalid_0's auc: 0.953321\n",
      "[23]\tvalid_0's l2: 0.0612208\tvalid_0's l1: 0.139735\tvalid_0's auc: 0.953421\n",
      "[24]\tvalid_0's l2: 0.0610457\tvalid_0's l1: 0.137784\tvalid_0's auc: 0.953453\n",
      "[25]\tvalid_0's l2: 0.0609009\tvalid_0's l1: 0.136036\tvalid_0's auc: 0.953483\n",
      "[26]\tvalid_0's l2: 0.060771\tvalid_0's l1: 0.134611\tvalid_0's auc: 0.956701\n",
      "[27]\tvalid_0's l2: 0.0606447\tvalid_0's l1: 0.133113\tvalid_0's auc: 0.956851\n",
      "[28]\tvalid_0's l2: 0.0605488\tvalid_0's l1: 0.131869\tvalid_0's auc: 0.957185\n",
      "[29]\tvalid_0's l2: 0.0604711\tvalid_0's l1: 0.130689\tvalid_0's auc: 0.957216\n",
      "[30]\tvalid_0's l2: 0.0603806\tvalid_0's l1: 0.129488\tvalid_0's auc: 0.957274\n",
      "[31]\tvalid_0's l2: 0.0603376\tvalid_0's l1: 0.128529\tvalid_0's auc: 0.957288\n",
      "[32]\tvalid_0's l2: 0.0602633\tvalid_0's l1: 0.12752\tvalid_0's auc: 0.957472\n",
      "[33]\tvalid_0's l2: 0.0602079\tvalid_0's l1: 0.12666\tvalid_0's auc: 0.957515\n",
      "[34]\tvalid_0's l2: 0.0601533\tvalid_0's l1: 0.125851\tvalid_0's auc: 0.957579\n",
      "[35]\tvalid_0's l2: 0.0601307\tvalid_0's l1: 0.125184\tvalid_0's auc: 0.957592\n",
      "[36]\tvalid_0's l2: 0.0600824\tvalid_0's l1: 0.124483\tvalid_0's auc: 0.957838\n",
      "[37]\tvalid_0's l2: 0.0600629\tvalid_0's l1: 0.123902\tvalid_0's auc: 0.957894\n",
      "[38]\tvalid_0's l2: 0.0600169\tvalid_0's l1: 0.123465\tvalid_0's auc: 0.95793\n",
      "[39]\tvalid_0's l2: 0.0599906\tvalid_0's l1: 0.123077\tvalid_0's auc: 0.957984\n",
      "[40]\tvalid_0's l2: 0.0599659\tvalid_0's l1: 0.122518\tvalid_0's auc: 0.957983\n",
      "[41]\tvalid_0's l2: 0.0599443\tvalid_0's l1: 0.122072\tvalid_0's auc: 0.958072\n",
      "[42]\tvalid_0's l2: 0.059918\tvalid_0's l1: 0.121626\tvalid_0's auc: 0.95796\n",
      "[43]\tvalid_0's l2: 0.0598927\tvalid_0's l1: 0.121316\tvalid_0's auc: 0.957997\n",
      "[44]\tvalid_0's l2: 0.0598829\tvalid_0's l1: 0.120908\tvalid_0's auc: 0.95792\n",
      "[45]\tvalid_0's l2: 0.059868\tvalid_0's l1: 0.120901\tvalid_0's auc: 0.957971\n",
      "[46]\tvalid_0's l2: 0.0598456\tvalid_0's l1: 0.120673\tvalid_0's auc: 0.957995\n",
      "[47]\tvalid_0's l2: 0.0598264\tvalid_0's l1: 0.120398\tvalid_0's auc: 0.958025\n",
      "[48]\tvalid_0's l2: 0.0598303\tvalid_0's l1: 0.120151\tvalid_0's auc: 0.958006\n",
      "[49]\tvalid_0's l2: 0.059817\tvalid_0's l1: 0.120017\tvalid_0's auc: 0.95817\n",
      "[50]\tvalid_0's l2: 0.0598085\tvalid_0's l1: 0.119725\tvalid_0's auc: 0.958187\n",
      "[51]\tvalid_0's l2: 0.0598015\tvalid_0's l1: 0.119532\tvalid_0's auc: 0.9582\n",
      "[52]\tvalid_0's l2: 0.0597998\tvalid_0's l1: 0.119605\tvalid_0's auc: 0.958199\n",
      "[53]\tvalid_0's l2: 0.0597866\tvalid_0's l1: 0.119488\tvalid_0's auc: 0.958252\n",
      "[54]\tvalid_0's l2: 0.0597873\tvalid_0's l1: 0.119547\tvalid_0's auc: 0.958249\n",
      "[55]\tvalid_0's l2: 0.0597845\tvalid_0's l1: 0.119579\tvalid_0's auc: 0.958228\n",
      "[56]\tvalid_0's l2: 0.0597705\tvalid_0's l1: 0.119386\tvalid_0's auc: 0.958436\n",
      "[57]\tvalid_0's l2: 0.0597614\tvalid_0's l1: 0.119311\tvalid_0's auc: 0.958476\n",
      "[58]\tvalid_0's l2: 0.0597501\tvalid_0's l1: 0.119331\tvalid_0's auc: 0.958494\n",
      "[59]\tvalid_0's l2: 0.0597395\tvalid_0's l1: 0.119196\tvalid_0's auc: 0.95851\n",
      "[60]\tvalid_0's l2: 0.0597331\tvalid_0's l1: 0.119017\tvalid_0's auc: 0.958526\n",
      "[61]\tvalid_0's l2: 0.059721\tvalid_0's l1: 0.118823\tvalid_0's auc: 0.958688\n",
      "[62]\tvalid_0's l2: 0.059718\tvalid_0's l1: 0.118774\tvalid_0's auc: 0.958708\n",
      "[63]\tvalid_0's l2: 0.0597151\tvalid_0's l1: 0.118765\tvalid_0's auc: 0.958702\n",
      "[64]\tvalid_0's l2: 0.0596939\tvalid_0's l1: 0.118658\tvalid_0's auc: 0.958722\n",
      "[65]\tvalid_0's l2: 0.0596781\tvalid_0's l1: 0.118677\tvalid_0's auc: 0.958734\n",
      "[66]\tvalid_0's l2: 0.0596708\tvalid_0's l1: 0.11852\tvalid_0's auc: 0.958774\n",
      "[67]\tvalid_0's l2: 0.0596663\tvalid_0's l1: 0.118508\tvalid_0's auc: 0.958775\n",
      "[68]\tvalid_0's l2: 0.0596616\tvalid_0's l1: 0.118395\tvalid_0's auc: 0.958773\n",
      "[69]\tvalid_0's l2: 0.0596539\tvalid_0's l1: 0.118387\tvalid_0's auc: 0.958791\n",
      "[70]\tvalid_0's l2: 0.0596496\tvalid_0's l1: 0.118374\tvalid_0's auc: 0.958762\n",
      "[71]\tvalid_0's l2: 0.0596511\tvalid_0's l1: 0.118461\tvalid_0's auc: 0.958743\n",
      "[72]\tvalid_0's l2: 0.0596483\tvalid_0's l1: 0.118444\tvalid_0's auc: 0.958748\n",
      "[73]\tvalid_0's l2: 0.0596369\tvalid_0's l1: 0.118435\tvalid_0's auc: 0.958707\n",
      "[74]\tvalid_0's l2: 0.0596317\tvalid_0's l1: 0.118265\tvalid_0's auc: 0.958719\n",
      "[75]\tvalid_0's l2: 0.0596305\tvalid_0's l1: 0.118319\tvalid_0's auc: 0.958722\n",
      "[76]\tvalid_0's l2: 0.0596126\tvalid_0's l1: 0.11825\tvalid_0's auc: 0.958746\n",
      "[77]\tvalid_0's l2: 0.0596094\tvalid_0's l1: 0.118254\tvalid_0's auc: 0.958714\n",
      "[78]\tvalid_0's l2: 0.0595956\tvalid_0's l1: 0.118276\tvalid_0's auc: 0.958706\n",
      "[79]\tvalid_0's l2: 0.0595943\tvalid_0's l1: 0.118256\tvalid_0's auc: 0.95869\n",
      "Early stopping, best iteration is:\n",
      "[69]\tvalid_0's l2: 0.0596539\tvalid_0's l1: 0.118387\tvalid_0's auc: 0.958791\n"
     ]
    }
   ],
   "source": [
    "model = lgb.train(params, train_set, valid_sets=test_set, num_boost_round=100, early_stopping_rounds=10)"
   ]
  },
  {
   "cell_type": "code",
   "execution_count": 14,
   "metadata": {},
   "outputs": [],
   "source": [
    "predictions = model.predict(test_x, num_iteration=model.best_iteration)"
   ]
  },
  {
   "cell_type": "code",
   "execution_count": 15,
   "metadata": {},
   "outputs": [
    {
     "name": "stdout",
     "output_type": "stream",
     "text": [
      "Mean Absolute Error:  0.11838744038792609\n",
      "Mean Squared Eror:  0.059653877876836896\n"
     ]
    }
   ],
   "source": [
    "mean_absolute_error = metrics.mean_absolute_error(predictions, test_y)\n",
    "mean_squared_error = metrics.mean_squared_error(predictions, test_y)\n",
    "print(\"Mean Absolute Error: \", mean_absolute_error)\n",
    "print(\"Mean Squared Eror: \", mean_squared_error)"
   ]
  },
  {
   "cell_type": "markdown",
   "metadata": {},
   "source": [
    "### 对比：\n",
    "* auc 提升了0.0004"
   ]
  },
  {
   "cell_type": "markdown",
   "metadata": {},
   "source": [
    "### 添加衍生变量--\"从没逾期\"(\"never_delinq\")"
   ]
  },
  {
   "cell_type": "code",
   "execution_count": 16,
   "metadata": {},
   "outputs": [],
   "source": [
    "train_x['never_delinq'] = train_x['continuous_mths_since_last_major_derog'].isna()\n",
    "train_x['never_delinq'] = train_x['never_delinq'].map(lambda x: 0 if x else 1)\n",
    "\n",
    "test_x['never_delinq'] = test_x['continuous_mths_since_last_major_derog'].isna()\n",
    "test_x['never_delinq'] = test_x['never_delinq'].map(lambda x: 0 if x else 1)"
   ]
  },
  {
   "cell_type": "code",
   "execution_count": 18,
   "metadata": {},
   "outputs": [],
   "source": [
    "train_set = lgb.Dataset(train_x, train_y)\n",
    "test_set = lgb.Dataset(test_x, test_y, reference=train_set)"
   ]
  },
  {
   "cell_type": "code",
   "execution_count": 19,
   "metadata": {},
   "outputs": [],
   "source": [
    "params = {\n",
    "    'boosting_type': 'gbdt',\n",
    "    'objective': 'regression',\n",
    "    'metric': {'l2', 'l1', 'auc'},\n",
    "    'num_leaves': 7,\n",
    "    'learning_rate': 0.1,\n",
    "    'feature_fraction': 0.9,\n",
    "    'bagging_fraction': 0.8,\n",
    "    'bagging_freq': 5,\n",
    "    'verbose': 0\n",
    "}"
   ]
  },
  {
   "cell_type": "code",
   "execution_count": 20,
   "metadata": {},
   "outputs": [
    {
     "name": "stdout",
     "output_type": "stream",
     "text": [
      "[LightGBM] [Warning] Auto-choosing row-wise multi-threading, the overhead of testing was 0.003244 seconds.\n",
      "You can set `force_row_wise=true` to remove the overhead.\n",
      "And if memory is not enough, you can set `force_col_wise=true`.\n",
      "[1]\tvalid_0's l2: 0.139183\tvalid_0's l1: 0.300462\tvalid_0's auc: 0.938528\n",
      "Training until validation scores don't improve for 10 rounds\n",
      "[2]\tvalid_0's l2: 0.124523\tvalid_0's l1: 0.28303\tvalid_0's auc: 0.939113\n",
      "[3]\tvalid_0's l2: 0.112617\tvalid_0's l1: 0.267277\tvalid_0's auc: 0.944291\n",
      "[4]\tvalid_0's l2: 0.10302\tvalid_0's l1: 0.25312\tvalid_0's auc: 0.944913\n",
      "[5]\tvalid_0's l2: 0.0951464\tvalid_0's l1: 0.240316\tvalid_0's auc: 0.945884\n",
      "[6]\tvalid_0's l2: 0.0886622\tvalid_0's l1: 0.228639\tvalid_0's auc: 0.946207\n",
      "[7]\tvalid_0's l2: 0.0834292\tvalid_0's l1: 0.218204\tvalid_0's auc: 0.949131\n",
      "[8]\tvalid_0's l2: 0.0792008\tvalid_0's l1: 0.208852\tvalid_0's auc: 0.949273\n",
      "[9]\tvalid_0's l2: 0.0757594\tvalid_0's l1: 0.200396\tvalid_0's auc: 0.949435\n",
      "[10]\tvalid_0's l2: 0.0729348\tvalid_0's l1: 0.192669\tvalid_0's auc: 0.949527\n",
      "[11]\tvalid_0's l2: 0.070628\tvalid_0's l1: 0.185662\tvalid_0's auc: 0.949692\n",
      "[12]\tvalid_0's l2: 0.068781\tvalid_0's l1: 0.179357\tvalid_0's auc: 0.949761\n",
      "[13]\tvalid_0's l2: 0.0672789\tvalid_0's l1: 0.17367\tvalid_0's auc: 0.95086\n",
      "[14]\tvalid_0's l2: 0.0660641\tvalid_0's l1: 0.168649\tvalid_0's auc: 0.950986\n",
      "[15]\tvalid_0's l2: 0.0650657\tvalid_0's l1: 0.164082\tvalid_0's auc: 0.951085\n",
      "[16]\tvalid_0's l2: 0.0642254\tvalid_0's l1: 0.159945\tvalid_0's auc: 0.952736\n",
      "[17]\tvalid_0's l2: 0.0635133\tvalid_0's l1: 0.156134\tvalid_0's auc: 0.952842\n",
      "[18]\tvalid_0's l2: 0.0629257\tvalid_0's l1: 0.152589\tvalid_0's auc: 0.952981\n",
      "[19]\tvalid_0's l2: 0.0624454\tvalid_0's l1: 0.149504\tvalid_0's auc: 0.953073\n",
      "[20]\tvalid_0's l2: 0.0620656\tvalid_0's l1: 0.146763\tvalid_0's auc: 0.953155\n",
      "[21]\tvalid_0's l2: 0.0617694\tvalid_0's l1: 0.144294\tvalid_0's auc: 0.953195\n",
      "[22]\tvalid_0's l2: 0.0615126\tvalid_0's l1: 0.141991\tvalid_0's auc: 0.953258\n",
      "[23]\tvalid_0's l2: 0.061288\tvalid_0's l1: 0.139868\tvalid_0's auc: 0.953332\n",
      "[24]\tvalid_0's l2: 0.061077\tvalid_0's l1: 0.137848\tvalid_0's auc: 0.953376\n",
      "[25]\tvalid_0's l2: 0.0609292\tvalid_0's l1: 0.136127\tvalid_0's auc: 0.953445\n",
      "[26]\tvalid_0's l2: 0.0607814\tvalid_0's l1: 0.13448\tvalid_0's auc: 0.956568\n",
      "[27]\tvalid_0's l2: 0.0606703\tvalid_0's l1: 0.133016\tvalid_0's auc: 0.956695\n",
      "[28]\tvalid_0's l2: 0.0605555\tvalid_0's l1: 0.13164\tvalid_0's auc: 0.956773\n",
      "[29]\tvalid_0's l2: 0.0604597\tvalid_0's l1: 0.130369\tvalid_0's auc: 0.956833\n",
      "[30]\tvalid_0's l2: 0.0603853\tvalid_0's l1: 0.12925\tvalid_0's auc: 0.956954\n",
      "[31]\tvalid_0's l2: 0.0603102\tvalid_0's l1: 0.128159\tvalid_0's auc: 0.957022\n",
      "[32]\tvalid_0's l2: 0.0602731\tvalid_0's l1: 0.127285\tvalid_0's auc: 0.957039\n",
      "[33]\tvalid_0's l2: 0.0602247\tvalid_0's l1: 0.126464\tvalid_0's auc: 0.957221\n",
      "[34]\tvalid_0's l2: 0.0601901\tvalid_0's l1: 0.125713\tvalid_0's auc: 0.957287\n",
      "[35]\tvalid_0's l2: 0.0601568\tvalid_0's l1: 0.125001\tvalid_0's auc: 0.957309\n",
      "[36]\tvalid_0's l2: 0.0601285\tvalid_0's l1: 0.124312\tvalid_0's auc: 0.957329\n",
      "[37]\tvalid_0's l2: 0.0600916\tvalid_0's l1: 0.123566\tvalid_0's auc: 0.957421\n",
      "[38]\tvalid_0's l2: 0.0600468\tvalid_0's l1: 0.123058\tvalid_0's auc: 0.957453\n",
      "[39]\tvalid_0's l2: 0.0600358\tvalid_0's l1: 0.122655\tvalid_0's auc: 0.957456\n",
      "[40]\tvalid_0's l2: 0.0600276\tvalid_0's l1: 0.122333\tvalid_0's auc: 0.957421\n",
      "[41]\tvalid_0's l2: 0.0600138\tvalid_0's l1: 0.121832\tvalid_0's auc: 0.95739\n",
      "[42]\tvalid_0's l2: 0.0599897\tvalid_0's l1: 0.121573\tvalid_0's auc: 0.957477\n",
      "[43]\tvalid_0's l2: 0.0599755\tvalid_0's l1: 0.121308\tvalid_0's auc: 0.957512\n",
      "[44]\tvalid_0's l2: 0.0599569\tvalid_0's l1: 0.121034\tvalid_0's auc: 0.957718\n",
      "[45]\tvalid_0's l2: 0.059943\tvalid_0's l1: 0.121047\tvalid_0's auc: 0.957752\n",
      "[46]\tvalid_0's l2: 0.0599323\tvalid_0's l1: 0.120786\tvalid_0's auc: 0.957747\n",
      "[47]\tvalid_0's l2: 0.0599209\tvalid_0's l1: 0.120475\tvalid_0's auc: 0.957726\n",
      "[48]\tvalid_0's l2: 0.0599031\tvalid_0's l1: 0.120297\tvalid_0's auc: 0.957754\n",
      "[49]\tvalid_0's l2: 0.059894\tvalid_0's l1: 0.120095\tvalid_0's auc: 0.957794\n",
      "[50]\tvalid_0's l2: 0.059883\tvalid_0's l1: 0.119804\tvalid_0's auc: 0.957831\n",
      "[51]\tvalid_0's l2: 0.0598749\tvalid_0's l1: 0.11973\tvalid_0's auc: 0.957823\n",
      "[52]\tvalid_0's l2: 0.0598612\tvalid_0's l1: 0.119589\tvalid_0's auc: 0.95782\n",
      "[53]\tvalid_0's l2: 0.0598601\tvalid_0's l1: 0.119651\tvalid_0's auc: 0.957818\n",
      "[54]\tvalid_0's l2: 0.0598536\tvalid_0's l1: 0.119504\tvalid_0's auc: 0.957842\n",
      "[55]\tvalid_0's l2: 0.0598492\tvalid_0's l1: 0.119543\tvalid_0's auc: 0.95785\n",
      "[56]\tvalid_0's l2: 0.0598444\tvalid_0's l1: 0.11958\tvalid_0's auc: 0.957862\n",
      "[57]\tvalid_0's l2: 0.0598474\tvalid_0's l1: 0.119365\tvalid_0's auc: 0.957876\n",
      "[58]\tvalid_0's l2: 0.0598454\tvalid_0's l1: 0.119281\tvalid_0's auc: 0.957878\n",
      "[59]\tvalid_0's l2: 0.0598383\tvalid_0's l1: 0.119197\tvalid_0's auc: 0.957906\n",
      "[60]\tvalid_0's l2: 0.0598328\tvalid_0's l1: 0.119065\tvalid_0's auc: 0.958003\n",
      "[61]\tvalid_0's l2: 0.0598261\tvalid_0's l1: 0.11899\tvalid_0's auc: 0.958047\n",
      "[62]\tvalid_0's l2: 0.0597953\tvalid_0's l1: 0.118873\tvalid_0's auc: 0.958088\n",
      "[63]\tvalid_0's l2: 0.0597937\tvalid_0's l1: 0.118706\tvalid_0's auc: 0.958082\n",
      "[64]\tvalid_0's l2: 0.0597943\tvalid_0's l1: 0.118536\tvalid_0's auc: 0.958088\n",
      "[65]\tvalid_0's l2: 0.059778\tvalid_0's l1: 0.118552\tvalid_0's auc: 0.958099\n",
      "[66]\tvalid_0's l2: 0.0597719\tvalid_0's l1: 0.11843\tvalid_0's auc: 0.958139\n",
      "[67]\tvalid_0's l2: 0.0597685\tvalid_0's l1: 0.11842\tvalid_0's auc: 0.958146\n",
      "[68]\tvalid_0's l2: 0.059763\tvalid_0's l1: 0.118345\tvalid_0's auc: 0.958167\n",
      "[69]\tvalid_0's l2: 0.0597585\tvalid_0's l1: 0.11824\tvalid_0's auc: 0.958183\n",
      "[70]\tvalid_0's l2: 0.0597566\tvalid_0's l1: 0.118267\tvalid_0's auc: 0.958182\n",
      "[71]\tvalid_0's l2: 0.0597519\tvalid_0's l1: 0.118349\tvalid_0's auc: 0.958173\n",
      "[72]\tvalid_0's l2: 0.0597465\tvalid_0's l1: 0.118343\tvalid_0's auc: 0.958167\n",
      "[73]\tvalid_0's l2: 0.059741\tvalid_0's l1: 0.118178\tvalid_0's auc: 0.95818\n",
      "[74]\tvalid_0's l2: 0.0597397\tvalid_0's l1: 0.118228\tvalid_0's auc: 0.958182\n",
      "[75]\tvalid_0's l2: 0.0597402\tvalid_0's l1: 0.11822\tvalid_0's auc: 0.958187\n",
      "[76]\tvalid_0's l2: 0.0597235\tvalid_0's l1: 0.11816\tvalid_0's auc: 0.958202\n",
      "[77]\tvalid_0's l2: 0.0597201\tvalid_0's l1: 0.118164\tvalid_0's auc: 0.958182\n",
      "[78]\tvalid_0's l2: 0.0597167\tvalid_0's l1: 0.118044\tvalid_0's auc: 0.958195\n",
      "[79]\tvalid_0's l2: 0.0597124\tvalid_0's l1: 0.118003\tvalid_0's auc: 0.958189\n",
      "[80]\tvalid_0's l2: 0.0597115\tvalid_0's l1: 0.117993\tvalid_0's auc: 0.958182\n",
      "[81]\tvalid_0's l2: 0.0596881\tvalid_0's l1: 0.118098\tvalid_0's auc: 0.95819\n",
      "[82]\tvalid_0's l2: 0.0596684\tvalid_0's l1: 0.118125\tvalid_0's auc: 0.958214\n",
      "[83]\tvalid_0's l2: 0.0596606\tvalid_0's l1: 0.118043\tvalid_0's auc: 0.958218\n",
      "[84]\tvalid_0's l2: 0.0596487\tvalid_0's l1: 0.118185\tvalid_0's auc: 0.958227\n",
      "[85]\tvalid_0's l2: 0.0596483\tvalid_0's l1: 0.118197\tvalid_0's auc: 0.958247\n",
      "[86]\tvalid_0's l2: 0.0596511\tvalid_0's l1: 0.118092\tvalid_0's auc: 0.958239\n",
      "[87]\tvalid_0's l2: 0.0596501\tvalid_0's l1: 0.118114\tvalid_0's auc: 0.958252\n",
      "[88]\tvalid_0's l2: 0.0596557\tvalid_0's l1: 0.11804\tvalid_0's auc: 0.958243\n",
      "[89]\tvalid_0's l2: 0.0596577\tvalid_0's l1: 0.11798\tvalid_0's auc: 0.958235\n",
      "[90]\tvalid_0's l2: 0.05966\tvalid_0's l1: 0.117951\tvalid_0's auc: 0.958213\n",
      "[91]\tvalid_0's l2: 0.0596569\tvalid_0's l1: 0.117965\tvalid_0's auc: 0.958215\n",
      "[92]\tvalid_0's l2: 0.0596528\tvalid_0's l1: 0.117919\tvalid_0's auc: 0.958302\n",
      "[93]\tvalid_0's l2: 0.0596534\tvalid_0's l1: 0.117898\tvalid_0's auc: 0.958297\n",
      "[94]\tvalid_0's l2: 0.0596526\tvalid_0's l1: 0.117888\tvalid_0's auc: 0.9583\n",
      "[95]\tvalid_0's l2: 0.0596442\tvalid_0's l1: 0.117782\tvalid_0's auc: 0.958309\n",
      "[96]\tvalid_0's l2: 0.0596466\tvalid_0's l1: 0.117783\tvalid_0's auc: 0.958307\n",
      "[97]\tvalid_0's l2: 0.0596485\tvalid_0's l1: 0.11767\tvalid_0's auc: 0.958304\n",
      "[98]\tvalid_0's l2: 0.0596446\tvalid_0's l1: 0.117677\tvalid_0's auc: 0.95831\n",
      "[99]\tvalid_0's l2: 0.0596423\tvalid_0's l1: 0.117614\tvalid_0's auc: 0.95831\n",
      "[100]\tvalid_0's l2: 0.0596336\tvalid_0's l1: 0.11758\tvalid_0's auc: 0.958322\n",
      "Did not meet early stopping. Best iteration is:\n",
      "[100]\tvalid_0's l2: 0.0596336\tvalid_0's l1: 0.11758\tvalid_0's auc: 0.958322\n"
     ]
    }
   ],
   "source": [
    "model = lgb.train(params, train_set, valid_sets=test_set, num_boost_round=100, early_stopping_rounds=10)"
   ]
  },
  {
   "cell_type": "code",
   "execution_count": 21,
   "metadata": {},
   "outputs": [],
   "source": [
    "predictions = model.predict(test_x, num_iteration=model.best_iteration)"
   ]
  },
  {
   "cell_type": "code",
   "execution_count": 22,
   "metadata": {},
   "outputs": [
    {
     "name": "stdout",
     "output_type": "stream",
     "text": [
      "Mean Absolute Error:  0.1175800518059869\n",
      "Mean Squared Eror:  0.05963361584700895\n"
     ]
    }
   ],
   "source": [
    "mean_absolute_error = metrics.mean_absolute_error(predictions, test_y)\n",
    "mean_squared_error = metrics.mean_squared_error(predictions, test_y)\n",
    "print(\"Mean Absolute Error: \", mean_absolute_error)\n",
    "print(\"Mean Squared Eror: \", mean_squared_error)"
   ]
  },
  {
   "cell_type": "markdown",
   "metadata": {},
   "source": [
    "### 对比：\n",
    "* auc 没有提升了，反而降低了"
   ]
  },
  {
   "cell_type": "code",
   "execution_count": null,
   "metadata": {},
   "outputs": [],
   "source": []
  }
 ],
 "metadata": {
  "kernelspec": {
   "display_name": "Python 3",
   "language": "python",
   "name": "python3"
  },
  "language_info": {
   "codemirror_mode": {
    "name": "ipython",
    "version": 3
   },
   "file_extension": ".py",
   "mimetype": "text/x-python",
   "name": "python",
   "nbconvert_exporter": "python",
   "pygments_lexer": "ipython3",
   "version": "3.8.5"
  }
 },
 "nbformat": 4,
 "nbformat_minor": 4
}
