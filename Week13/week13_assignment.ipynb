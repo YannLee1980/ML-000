{
 "cells": [
  {
   "cell_type": "markdown",
   "metadata": {},
   "source": [
    "### Create a simple dataset to test the correctness of our approach"
   ]
  },
  {
   "cell_type": "code",
   "execution_count": 6,
   "metadata": {},
   "outputs": [],
   "source": [
    "import numpy as np\n",
    "import torch\n",
    "from pytorch_tabnet.tab_model import TabNetClassifier"
   ]
  },
  {
   "cell_type": "code",
   "execution_count": 7,
   "metadata": {},
   "outputs": [],
   "source": [
    "x = torch.randn(100000, 2)\n",
    "noise = torch.randn(100000,)\n",
    "y = ((1.0*x[:,0]+2.0*x[:,1]+noise)>0).type(torch.int64)"
   ]
  },
  {
   "cell_type": "code",
   "execution_count": 8,
   "metadata": {},
   "outputs": [
    {
     "name": "stdout",
     "output_type": "stream",
     "text": [
      "0.86766\n"
     ]
    }
   ],
   "source": [
    "y_np = y.numpy()\n",
    "x_np = x.numpy()\n",
    "y_train, y_test = y_np[:50000], y_np[50000:]\n",
    "x_train, x_test = x_np[:50000, :], x_np[50000:, :]\n",
    "from sklearn.linear_model import LogisticRegression\n",
    "log_reg = LogisticRegression()\n",
    "log_reg.fit(x_train, y_train)\n",
    "y_pred = log_reg.predict(x_test)\n",
    "from sklearn.metrics import accuracy_score\n",
    "print(accuracy_score(y_test, y_pred))"
   ]
  },
  {
   "cell_type": "markdown",
   "metadata": {},
   "source": [
    "### Using TabNet"
   ]
  },
  {
   "cell_type": "markdown",
   "metadata": {},
   "source": [
    "#### Network parameters"
   ]
  },
  {
   "cell_type": "code",
   "execution_count": 9,
   "metadata": {},
   "outputs": [
    {
     "name": "stdout",
     "output_type": "stream",
     "text": [
      "Device used : cpu\n"
     ]
    }
   ],
   "source": [
    "clf = TabNetClassifier(\n",
    "    n_d=64, n_a=64, n_steps=5,\n",
    "    gamma=1.5, n_independent=2, n_shared=2,\n",
    "    lambda_sparse=1e-4, momentum=0.3, clip_value=2.,\n",
    "    optimizer_fn=torch.optim.Adam,\n",
    "    optimizer_params=dict(lr=2e-2),\n",
    "    scheduler_params = {\"gamma\": 0.95,\n",
    "                     \"step_size\": 20},\n",
    "    scheduler_fn=torch.optim.lr_scheduler.StepLR, epsilon=1e-15\n",
    ")"
   ]
  },
  {
   "cell_type": "code",
   "execution_count": 13,
   "metadata": {},
   "outputs": [
    {
     "name": "stdout",
     "output_type": "stream",
     "text": [
      "No early stopping will be performed, last training weights will be used.\n",
      "epoch 0  | loss: 0.31061 |  0:00:45s\n",
      "epoch 1  | loss: 0.3031  |  0:01:26s\n",
      "epoch 2  | loss: 0.30349 |  0:02:10s\n",
      "epoch 3  | loss: 0.30148 |  0:03:24s\n",
      "epoch 4  | loss: 0.3042  |  0:04:15s\n",
      "epoch 5  | loss: 0.30104 |  0:04:55s\n",
      "epoch 6  | loss: 0.29989 |  0:05:34s\n",
      "epoch 7  | loss: 0.30325 |  0:06:11s\n",
      "epoch 8  | loss: 0.3019  |  0:06:48s\n",
      "epoch 9  | loss: 0.30088 |  0:07:24s\n"
     ]
    }
   ],
   "source": [
    "max_epochs = 10\n",
    "clf.fit(X_train=x_train, y_train=y_train,\n",
    "               patience=5,max_epochs=max_epochs,\n",
    "               eval_metric=['auc'])"
   ]
  },
  {
   "cell_type": "code",
   "execution_count": 14,
   "metadata": {},
   "outputs": [
    {
     "name": "stdout",
     "output_type": "stream",
     "text": [
      "Accuracy score of TabNet model:0.86684\n"
     ]
    }
   ],
   "source": [
    "ypred = clf.predict(x_test)\n",
    "print(f'Accuracy score of TabNet model:{accuracy_score(ypred, y_test)}')"
   ]
  },
  {
   "cell_type": "code",
   "execution_count": null,
   "metadata": {},
   "outputs": [],
   "source": []
  }
 ],
 "metadata": {
  "kernelspec": {
   "display_name": "Python 3",
   "language": "python",
   "name": "python3"
  },
  "language_info": {
   "codemirror_mode": {
    "name": "ipython",
    "version": 3
   },
   "file_extension": ".py",
   "mimetype": "text/x-python",
   "name": "python",
   "nbconvert_exporter": "python",
   "pygments_lexer": "ipython3",
   "version": "3.8.5"
  }
 },
 "nbformat": 4,
 "nbformat_minor": 4
}
